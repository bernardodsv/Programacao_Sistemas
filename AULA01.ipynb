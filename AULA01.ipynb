{
  "nbformat": 4,
  "nbformat_minor": 0,
  "metadata": {
    "colab": {
      "name": "AULA01",
      "provenance": [],
      "collapsed_sections": [],
      "authorship_tag": "ABX9TyNAKfcVtDR5xxYb6WqtVu1Q",
      "include_colab_link": true
    },
    "kernelspec": {
      "name": "python3",
      "display_name": "Python 3"
    }
  },
  "cells": [
    {
      "cell_type": "markdown",
      "metadata": {
        "id": "view-in-github",
        "colab_type": "text"
      },
      "source": [
        "<a href=\"https://colab.research.google.com/github/bernardodsv/Programacao_Sistemas/blob/master/AULA01.ipynb\" target=\"_parent\"><img src=\"https://colab.research.google.com/assets/colab-badge.svg\" alt=\"Open In Colab\"/></a>"
      ]
    },
    {
      "cell_type": "markdown",
      "metadata": {
        "id": "oZd5-NEB6J4M",
        "colab_type": "text"
      },
      "source": [
        "Comando print"
      ]
    },
    {
      "cell_type": "code",
      "metadata": {
        "id": "RFhLbdgw0D9Q",
        "colab_type": "code",
        "colab": {
          "base_uri": "https://localhost:8080/",
          "height": 34
        },
        "outputId": "81f7ff74-bbd5-404a-9448-b071d210b23d"
      },
      "source": [
        "print(\"Olá mundo!\")\n"
      ],
      "execution_count": null,
      "outputs": [
        {
          "output_type": "stream",
          "text": [
            "Olá mundo!\n"
          ],
          "name": "stdout"
        }
      ]
    },
    {
      "cell_type": "markdown",
      "metadata": {
        "id": "qKzB-8qD6NSD",
        "colab_type": "text"
      },
      "source": [
        "Pedindo informação e mostrando-as"
      ]
    },
    {
      "cell_type": "code",
      "metadata": {
        "id": "SdeE9oAO57-E",
        "colab_type": "code",
        "colab": {
          "base_uri": "https://localhost:8080/",
          "height": 51
        },
        "outputId": "06fcd70d-23cf-40b8-c156-74f4c52bf6c4"
      },
      "source": [
        "#input\n",
        "name = input (\"Digite seu nome: \")\n",
        "print(name)\n"
      ],
      "execution_count": null,
      "outputs": [
        {
          "output_type": "stream",
          "text": [
            "Digite seu nome: be\n",
            "be\n"
          ],
          "name": "stdout"
        }
      ]
    },
    {
      "cell_type": "markdown",
      "metadata": {
        "id": "eYKYVZpr6EB4",
        "colab_type": "text"
      },
      "source": [
        "Pedir o ano que nasceu\n"
      ]
    },
    {
      "cell_type": "code",
      "metadata": {
        "id": "TJf--lAE6AUk",
        "colab_type": "code",
        "colab": {
          "base_uri": "https://localhost:8080/",
          "height": 51
        },
        "outputId": "9a5448c9-4846-410a-ed3d-14bd514b6283"
      },
      "source": [
        "ano = (int(input(\"Digite o ano que nasceu: \")))\n",
        "# também posso converter o input de STR para INT:  'ano = int(ano)'\n",
        "idade = (2020 - ano)\n",
        "maioridade = (idade - 18)\n",
        "\n",
        "if maioridade >= 0:\n",
        "  print(\"Você é maior da idade. Você tem {} anos.\".format(idade))\n",
        "else:\n",
        "  print(f\"Você é menor de idade.Você tem {idade} anos.\")\n"
      ],
      "execution_count": null,
      "outputs": [
        {
          "output_type": "stream",
          "text": [
            "Digite o ano que nasceu: 2002\n",
            "Você é maior da idade. Você tem 18 anos.\n"
          ],
          "name": "stdout"
        }
      ]
    }
  ]
}